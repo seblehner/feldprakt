{
 "cells": [
  {
   "cell_type": "markdown",
   "metadata": {},
   "source": [
    "### unit test for conversion of math degrees in meteo degrees"
   ]
  },
  {
   "cell_type": "code",
   "execution_count": 1,
   "metadata": {},
   "outputs": [],
   "source": [
    "import numpy as np"
   ]
  },
  {
   "cell_type": "code",
   "execution_count": 6,
   "metadata": {},
   "outputs": [],
   "source": [
    "degs = np.arange(5, 361, 5)"
   ]
  },
  {
   "cell_type": "code",
   "execution_count": 8,
   "metadata": {},
   "outputs": [
    {
     "name": "stdout",
     "output_type": "stream",
     "text": [
      "[  5  10  15  20  25  30  35  40  45  50  55  60  65  70  75  80  85  90\n",
      "  95 100 105 110 115 120 125 130 135 140 145 150 155 160 165 170 175 180\n",
      " 185 190 195 200 205 210 215 220 225 230 235 240 245 250 255 260 265 270\n",
      " 275 280 285 290 295 300 305 310 315 320 325 330 335 340 345 350 355 360]\n"
     ]
    }
   ],
   "source": [
    "print(degs)"
   ]
  },
  {
   "cell_type": "code",
   "execution_count": 13,
   "metadata": {},
   "outputs": [
    {
     "name": "stdout",
     "output_type": "stream",
     "text": [
      "[105 100  95  90  85  80  75  70  65  60  55  50  45  40  35  30  25  20\n",
      "  15  10   5   0 355 350 345 340 335 330 325 320 315 310 305 300 295 290\n",
      " 285 280 275 270 265 260 255 250 245 240 235 230 225 220 215 210 205 200\n",
      " 195 190 185 180 175 170 165 160 155 150 145 140 135 130 125 120 115 110]\n"
     ]
    }
   ],
   "source": [
    "degs1 = (470-degs) % 360\n",
    "print(degs1)"
   ]
  },
  {
   "cell_type": "code",
   "execution_count": 15,
   "metadata": {},
   "outputs": [
    {
     "name": "stdout",
     "output_type": "stream",
     "text": [
      "[355 350 345 340 335 330 325 320 315 310 305 300 295 290 285 280 275 270\n",
      " 265 260 255 250 245 240 235 230 225 220 215 210 205 200 195 190 185 180\n",
      " 175 170 165 160 155 150 145 140 135 130 125 120 115 110 105 100  95  90\n",
      "  85  80  75  70  65  60  55  50  45  40  35  30  25  20  15  10   5   0]\n"
     ]
    }
   ],
   "source": [
    "degs2 = (360-degs) % 360\n",
    "print(degs2)"
   ]
  },
  {
   "cell_type": "code",
   "execution_count": null,
   "metadata": {},
   "outputs": [],
   "source": []
  }
 ],
 "metadata": {
  "kernelspec": {
   "display_name": "Python 3",
   "language": "python",
   "name": "python3"
  },
  "language_info": {
   "codemirror_mode": {
    "name": "ipython",
    "version": 3
   },
   "file_extension": ".py",
   "mimetype": "text/x-python",
   "name": "python",
   "nbconvert_exporter": "python",
   "pygments_lexer": "ipython3",
   "version": "3.7.3"
  }
 },
 "nbformat": 4,
 "nbformat_minor": 2
}
